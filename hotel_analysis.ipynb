{
 "cells": [
  {
   "cell_type": "code",
   "execution_count": 1,
   "metadata": {},
   "outputs": [],
   "source": [
    "import re\n",
    "import pandas as pd\n",
    "\n",
    "#  读取 CSV\n",
    "df = pd.read_csv('hotel.csv', encoding='utf-8')\n",
    "\n",
    "#  重命名关键列\n",
    "df.rename(columns={\n",
    "    'タイトル':     'name',              \n",
    "    'タイトルURL':  'url',                \n",
    "    'タイトル2':    'location',           \n",
    "    '価格7':        'price_total',        \n",
    "    '価格8':        'price_per_person',   \n",
    "    '概要':         'rating' ,\n",
    "    'タイトル12':    'walk_time'\n",
    "   \n",
    "}, inplace=True)"
   ]
  },
  {
   "cell_type": "code",
   "execution_count": 2,
   "metadata": {},
   "outputs": [],
   "source": [
    "#  提取 hotel_id（URL 中的 yad123456）\n",
    "def extract_hotel_id(link):\n",
    "    m = re.search(r'yad\\d+', str(link))\n",
    "    return m.group(0) if m else pd.NA\n",
    "\n",
    "df['hotel_id'] = df['url'].apply(extract_hotel_id)"
   ]
  },
  {
   "cell_type": "code",
   "execution_count": 3,
   "metadata": {},
   "outputs": [],
   "source": [
    "#  解析 location 拆分为 prefecture / city\n",
    "#    示例 \"石川県 > 金沢・湯涌\"\n",
    "loc_split = df['location'].str.split(' > ', expand=True)\n",
    "df['prefecture'] = loc_split[0]\n",
    "df['city']       = loc_split[1]\n"
   ]
  },
  {
   "cell_type": "code",
   "execution_count": 4,
   "metadata": {},
   "outputs": [],
   "source": [
    "#  价格字段清洗：去除日元符号、逗号，“～”等，提取数字\n",
    "for col in ['price_total', 'price_per_person']:\n",
    "    df[col] = (\n",
    "        df[col]\n",
    "        .astype(str)\n",
    "        .str.replace(r'[¥,～\\s名名人大人]+', '', regex=True)  # 去掉 ¥ , ～ 及文字\n",
    "        .str.extract(r'(\\d+)')                               # 抽出数字\n",
    "        .astype(float)\n",
    "    )"
   ]
  },
  {
   "cell_type": "code",
   "execution_count": 5,
   "metadata": {},
   "outputs": [
    {
     "name": "stdout",
     "output_type": "stream",
     "text": [
      "                                           walk_time station_walk_time\n",
      "0   金沢駅徒歩10分。または北鉄バス「武蔵ヶ辻・近江市場前」バス停下車目の前。コンビニまで徒歩約3分                10\n",
      "1   金沢駅東口③・⑦～⑪番乗り場より「武蔵ヶ辻・近江町市場」バス停より徒歩4分／無料シャトルバスあり                 4\n",
      "2                   JR金沢駅兼六園口（東口）から徒歩4分◇アクセス抜群！好立地☆彡                 4\n",
      "3              JR金沢駅より北鉄バス乗車、「武蔵ケ辻・近江町市場」バス停下車徒歩約2分。                 2\n",
      "4  JR金沢駅からバス「南町・尾山神社」迄7分下車1分/小松空港からバス「武蔵ヶ辻・近江町市場」...                 7\n"
     ]
    }
   ],
   "source": [
    "def extract_walk_time(access_str):\n",
    "    s = str(access_str)\n",
    "    # 优先匹配“徒歩xx分”\n",
    "    m = re.search(r'徒歩\\s*(\\d+)\\s*分', s)\n",
    "    if not m:\n",
    "        # 如果没有“徒歩”，也尝试匹配“xx分”\n",
    "        m = re.search(r'(\\d+)\\s*分', s)\n",
    "    return int(m.group(1)) if m else pd.NA\n",
    "\n",
    "# 3. 应用到 access 列，生成新列\n",
    "df['station_walk_time'] = df['walk_time'].apply(extract_walk_time)\n",
    "\n",
    "# 4. 查看新增列效果\n",
    "print(df[['walk_time', 'station_walk_time']].head())"
   ]
  },
  {
   "cell_type": "code",
   "execution_count": 6,
   "metadata": {},
   "outputs": [],
   "source": [
    "#  丢弃关键列缺失的行\n",
    "df.dropna(subset=['hotel_id','name'], inplace=True)\n"
   ]
  },
  {
   "cell_type": "code",
   "execution_count": 7,
   "metadata": {},
   "outputs": [],
   "source": [
    "# 删除重复 hotel_id，只保留第一条\n",
    "df.drop_duplicates(subset='hotel_id', keep='first', inplace=True)\n"
   ]
  },
  {
   "cell_type": "code",
   "execution_count": 8,
   "metadata": {},
   "outputs": [],
   "source": [
    "\n",
    "#  重建索引\n",
    "df.reset_index(drop=True, inplace=True)\n"
   ]
  },
  {
   "cell_type": "code",
   "execution_count": 10,
   "metadata": {},
   "outputs": [
    {
     "name": "stdout",
     "output_type": "stream",
     "text": [
      "    hotel_id                                    name prefecture   city  \\\n",
      "0  yad378719                        FORZA　ホテルフォルツァ金沢        石川県  金沢・湯涌   \n",
      "1  yad350199  THE HOTEL SANRAKU KANAZAWA（ザ ホテル山楽 金沢）        石川県  金沢・湯涌   \n",
      "2  yad304736                            ホテル・トリフィート金沢        石川県  金沢・湯涌   \n",
      "3  yad388181          天然温泉 加賀の宝泉 御宿 野乃金沢（ドーミーインチェーン）        石川県  金沢・湯涌   \n",
      "4  yad362769                            ホテルインターゲート金沢        石川県  金沢・湯涌   \n",
      "\n",
      "   price_per_person  rating station_walk_time  \n",
      "0           15600.0     4.6                10  \n",
      "1          112000.0     4.8                 4  \n",
      "2           16250.0     4.6                 4  \n",
      "3           18450.0     4.5                 2  \n",
      "4           17400.0     4.5                 7  \n",
      "    hotel_id                                    name prefecture   city  \\\n",
      "0  yad378719                        FORZA　ホテルフォルツァ金沢        石川県  金沢・湯涌   \n",
      "1  yad350199  THE HOTEL SANRAKU KANAZAWA（ザ ホテル山楽 金沢）        石川県  金沢・湯涌   \n",
      "2  yad304736                            ホテル・トリフィート金沢        石川県  金沢・湯涌   \n",
      "3  yad388181          天然温泉 加賀の宝泉 御宿 野乃金沢（ドーミーインチェーン）        石川県  金沢・湯涌   \n",
      "4  yad362769                            ホテルインターゲート金沢        石川県  金沢・湯涌   \n",
      "\n",
      "   price_per_person  rating station_walk_time  \n",
      "0           15600.0     4.6                10  \n",
      "1          112000.0     4.8                 4  \n",
      "2           16250.0     4.6                 4  \n",
      "3           18450.0     4.5                 2  \n",
      "4           17400.0     4.5                 7  \n"
     ]
    }
   ],
   "source": [
    "\n",
    "# 只保留关键列\n",
    "key_cols = [\n",
    "    'hotel_id',\n",
    "    'name',\n",
    "    'prefecture',\n",
    "    'city',\n",
    "    'price_per_person',\n",
    "    'rating',\n",
    "    'station_walk_time'\n",
    "]\n",
    "df = df[key_cols]\n",
    "\n",
    "#  检查前几行\n",
    "print(df[['hotel_id','name','prefecture','city','price_per_person','rating','station_walk_time']].head())\n",
    "\n",
    "# 14. 再次检查\n",
    "print(df.head())\n",
    "\n"
   ]
  },
  {
   "cell_type": "code",
   "execution_count": 11,
   "metadata": {},
   "outputs": [],
   "source": [
    "\n",
    "#  保存前处理结果\n",
    "df.to_csv('hotel_cleaned.csv', index=False, encoding='utf-8-sig')"
   ]
  },
  {
   "cell_type": "code",
   "execution_count": null,
   "metadata": {},
   "outputs": [],
   "source": []
  },
  {
   "cell_type": "code",
   "execution_count": null,
   "metadata": {},
   "outputs": [],
   "source": []
  }
 ],
 "metadata": {
  "colab": {
   "authorship_tag": "ABX9TyM1VbAEZo6EWPwnZ08YpKga",
   "provenance": []
  },
  "kernelspec": {
   "display_name": "kd_env",
   "language": "python",
   "name": "kd_env"
  },
  "language_info": {
   "codemirror_mode": {
    "name": "ipython",
    "version": 3
   },
   "file_extension": ".py",
   "mimetype": "text/x-python",
   "name": "python",
   "nbconvert_exporter": "python",
   "pygments_lexer": "ipython3",
   "version": "3.8.20"
  }
 },
 "nbformat": 4,
 "nbformat_minor": 4
}
